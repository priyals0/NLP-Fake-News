{
  "cells": [
    {
      "cell_type": "markdown",
      "metadata": {
        "id": "view-in-github",
        "colab_type": "text"
      },
      "source": [
        "<a href=\"https://colab.research.google.com/github/gitGoogleConnect808/nlp-fake-news/blob/main/method-cnn/cnn-bagOfWords-colab.ipynb\" target=\"_parent\"><img src=\"https://colab.research.google.com/assets/colab-badge.svg\" alt=\"Open In Colab\"/></a>"
      ]
    },
    {
      "cell_type": "markdown",
      "id": "0396c9b0-2ae2-4138-b733-bd6c5c5ef5ad",
      "metadata": {
        "id": "0396c9b0-2ae2-4138-b733-bd6c5c5ef5ad"
      },
      "source": [
        "- Colab Public Link: [Google Colab](https://colab.research.google.com/drive/1lX1W0rWz4DiPs5tpdRtW4ncj69d0zPyh?usp=drive_link)"
      ]
    },
    {
      "cell_type": "markdown",
      "id": "6495156c-ce99-409b-bf32-ccbc001fe665",
      "metadata": {
        "id": "6495156c-ce99-409b-bf32-ccbc001fe665"
      },
      "source": [
        "## Section 1: create true and false df's\n",
        "- paying attention only to certain true and false labels"
      ]
    },
    {
      "cell_type": "code",
      "execution_count": null,
      "id": "4wsKcl6DpoMN",
      "metadata": {
        "colab": {
          "base_uri": "https://localhost:8080/"
        },
        "id": "4wsKcl6DpoMN",
        "outputId": "4ba3eb19-9a0c-4569-dca5-1c8a1fd45044"
      },
      "outputs": [
        {
          "output_type": "stream",
          "name": "stdout",
          "text": [
            "Cloning into 'nlp-fake-news-data'...\n",
            "remote: Enumerating objects: 4, done.\u001b[K\n",
            "remote: Counting objects: 100% (4/4), done.\u001b[K\n",
            "remote: Compressing objects: 100% (4/4), done.\u001b[K\n",
            "remote: Total 4 (delta 0), reused 0 (delta 0), pack-reused 0 (from 0)\u001b[K\n",
            "Receiving objects: 100% (4/4), 890.74 KiB | 2.24 MiB/s, done.\n"
          ]
        }
      ],
      "source": [
        "# For Colab only: Download data from public rep\n",
        "! git clone https://github.com/gitGoogleConnect808/nlp-fake-news-data.git"
      ]
    },
    {
      "cell_type": "code",
      "execution_count": null,
      "id": "f9a6dc5e-6230-42a7-ac48-f8e20c5fac40",
      "metadata": {
        "colab": {
          "base_uri": "https://localhost:8080/"
        },
        "id": "f9a6dc5e-6230-42a7-ac48-f8e20c5fac40",
        "outputId": "c3bae668-acbf-455e-c881-975c344c1a29"
      },
      "outputs": [
        {
          "output_type": "stream",
          "name": "stderr",
          "text": [
            "[nltk_data] Downloading package stopwords to /root/nltk_data...\n",
            "[nltk_data]   Package stopwords is already up-to-date!\n"
          ]
        }
      ],
      "source": [
        "import nltk\n",
        "nltk.download('stopwords')\n",
        "from nltk import FreqDist\n",
        "from nltk.corpus import stopwords\n",
        "import pandas as pd\n",
        "import numpy as np\n",
        "import re\n",
        "import matplotlib.pyplot as plt\n",
        "import csv\n",
        "from sklearn import metrics\n",
        "\n",
        "stops = stopwords.words('english')\n",
        "stops.extend([\",\", \".\", \"!\", \"?\", \"'\", '\"', \"I\", \"i\", \"n't\", \"'ve\", \"'d\", \"'s\"])\n",
        "\n",
        "allwords = []"
      ]
    },
    {
      "cell_type": "code",
      "execution_count": null,
      "id": "41846b55-0494-446c-950d-2194b3536e3b",
      "metadata": {
        "id": "41846b55-0494-446c-950d-2194b3536e3b"
      },
      "outputs": [],
      "source": [
        "#create label to classification relations\n",
        "\n",
        "#true, mostly-true, half-true, barely-true, false, pants-fire\n",
        "true_labels = ['true', 'mostly-true']\n",
        "false_labels = ['false', 'pants-fire']\n",
        "\n",
        "#create map for each label and it's class (0/1)\n",
        "label_mapping = {label: 1 for label in true_labels}\n",
        "label_mapping.update({label: 0 for label in false_labels})\n",
        "\n",
        "\n",
        "# Read in the training dataset\n",
        "#tsv structure: statement: with properties => label, claim, class\n",
        "\n",
        "column_names = [\"label\", \"claim\"]\n",
        "train_df = pd.read_csv(\"nlp-fake-news-data/train.tsv\", sep=\"\\t\", header=None, names=column_names, usecols=[1,2], quoting=csv.QUOTE_NONE)"
      ]
    },
    {
      "cell_type": "code",
      "execution_count": null,
      "id": "cd5a668c-7faf-4480-89cd-e52b4fe71c19",
      "metadata": {
        "id": "cd5a668c-7faf-4480-89cd-e52b4fe71c19"
      },
      "outputs": [],
      "source": [
        "# create new column with 'class' being either 0/1 based on the label\n",
        "# we'll also drop any claim row that doesn't have one of the labels we're looking at\n",
        "def fixDataFrame(df, label_mapping):\n",
        "    df['class'] = df['label'].str.strip().str.lower().map(label_mapping)\n",
        "    return df.dropna(subset=['class'])\n",
        "\n",
        "train_df = fixDataFrame(train_df, label_mapping)"
      ]
    },
    {
      "cell_type": "code",
      "execution_count": null,
      "id": "2d12cee0-1934-4f27-8fd5-de84e73075fd",
      "metadata": {
        "colab": {
          "base_uri": "https://localhost:8080/"
        },
        "id": "2d12cee0-1934-4f27-8fd5-de84e73075fd",
        "outputId": "d4f6dbfe-12f6-47cf-bea9-df8f02f65319"
      },
      "outputs": [
        {
          "output_type": "stream",
          "name": "stdout",
          "text": [
            "Sample of data entries:\n",
            "             label                                              claim  class\n",
            "5679   mostly-true  I delivered to you a budget that ... cuts taxe...    1.0\n",
            "10083        false  Says Will Rasmussen supported a sales tax as r...    0.0\n",
            "4235   mostly-true  South Carolina has the fastest-growing economy...    1.0\n",
            "9207          true  Says Ohio has 77 job training programs spread ...    1.0\n",
            "977     pants-fire  Maj. Nidal Hasan, the man accused of the Fort ...    0.0\n",
            "Total Entries: 6489\n",
            "Count of 0's: 2840\n",
            "Count of 1's: 3649\n"
          ]
        }
      ],
      "source": [
        "def checkDF(df):\n",
        "    print(\"Sample of data entries:\")\n",
        "    print(df.sample(5, random_state=0))\n",
        "    print(f\"Total Entries: {len(df)}\")\n",
        "\n",
        "    counts = df['class'].value_counts()\n",
        "    print(f\"Count of 0's: {counts.get(0, 0)}\")\n",
        "    print(f\"Count of 1's: {counts.get(1, 0)}\")\n",
        "\n",
        "#deug: check to make sure data frame looks right\n",
        "checkDF(train_df)"
      ]
    },
    {
      "cell_type": "markdown",
      "id": "91ab2b03-388d-46fa-a99e-88d30b00f946",
      "metadata": {
        "id": "91ab2b03-388d-46fa-a99e-88d30b00f946"
      },
      "source": [
        "## Section 2: Turn true and false df's into true and false token lists"
      ]
    },
    {
      "cell_type": "code",
      "execution_count": null,
      "id": "aa98a15b-64f2-4bc2-ae44-395029e29bcd",
      "metadata": {
        "colab": {
          "base_uri": "https://localhost:8080/"
        },
        "id": "aa98a15b-64f2-4bc2-ae44-395029e29bcd",
        "outputId": "8f40f06e-2149-4b09-ee34-69d2d1fc46e2"
      },
      "outputs": [
        {
          "output_type": "stream",
          "name": "stdout",
          "text": [
            "True Claims Being Used: 3649\n",
            "Fake Articles Being Used: 2840\n"
          ]
        }
      ],
      "source": [
        "# Create True media claims Data Frame\n",
        "true_df = train_df[train_df['label'].isin(true_labels)]\n",
        "print(f\"True Claims Being Used: {len(true_df)}\")\n",
        "\n",
        "# Create Fake media claims Data Frame\n",
        "fake_df = train_df[train_df['label'].isin(false_labels)]\n",
        "print(f\"Fake Articles Being Used: {len(fake_df)}\")"
      ]
    },
    {
      "cell_type": "code",
      "source": [
        "# Use max number\n",
        "maxClaims = min(len(fake_df), len(true_df))\n",
        "print(maxClaims)"
      ],
      "metadata": {
        "id": "LYzk5f3uedbt",
        "outputId": "c70755e6-4f14-4bf7-ea42-fe4de9ee3e24",
        "colab": {
          "base_uri": "https://localhost:8080/"
        }
      },
      "id": "LYzk5f3uedbt",
      "execution_count": null,
      "outputs": [
        {
          "output_type": "stream",
          "name": "stdout",
          "text": [
            "2840\n"
          ]
        }
      ]
    },
    {
      "cell_type": "code",
      "execution_count": null,
      "id": "daa2080b-f144-470a-9d98-452171fac4f1",
      "metadata": {
        "colab": {
          "base_uri": "https://localhost:8080/"
        },
        "id": "daa2080b-f144-470a-9d98-452171fac4f1",
        "outputId": "bb66775d-d6f0-42be-bb5a-b8207f9c4131",
        "scrolled": true
      },
      "outputs": [
        {
          "output_type": "stream",
          "name": "stdout",
          "text": [
            "Processed 2840 true media claims\n"
          ]
        }
      ],
      "source": [
        "# create 2d true_claims list, each row here represents the tokens of a claim.\n",
        "true_claims = []\n",
        "for i, (idx, statement) in enumerate(true_df.iterrows()):\n",
        "    if i == maxClaims:\n",
        "        break\n",
        "    full_text = statement['claim']\n",
        "    full_text = re.sub(r'[^\\w\\s]', ' ', full_text)\n",
        "    full_text = re.sub(r'\\d+', ' ', full_text)\n",
        "\n",
        "    #debug\n",
        "    #print(f\"{i} {idx} {full_text}\")\n",
        "\n",
        "    words = full_text.lower().split()\n",
        "    filtered_words = list(set([w for w in words if w not in stops]))\n",
        "    true_claims.append(filtered_words)\n",
        "    allwords.extend(filtered_words)\n",
        "\n",
        "print(f\"Processed {len(true_claims)} true media claims\")\n"
      ]
    },
    {
      "cell_type": "code",
      "execution_count": null,
      "id": "223fffab-655f-4a46-a62b-ea708158fdb7",
      "metadata": {
        "colab": {
          "base_uri": "https://localhost:8080/"
        },
        "id": "223fffab-655f-4a46-a62b-ea708158fdb7",
        "outputId": "e331d55d-46b9-47cf-a3ed-49fb1ec97478",
        "scrolled": true
      },
      "outputs": [
        {
          "output_type": "stream",
          "name": "stdout",
          "text": [
            "Processed 2840 false media claims\n"
          ]
        }
      ],
      "source": [
        "# create 2d fake_claims list, each row here represents the tokens of a claim.\n",
        "fake_claims = []\n",
        "for i, (idx, statement) in enumerate(fake_df.iterrows()):\n",
        "    if i == maxClaims:\n",
        "        break\n",
        "    full_text = statement['claim']\n",
        "    full_text = re.sub(r'[^\\w\\s]', ' ', full_text)\n",
        "    full_text = re.sub(r'\\d+', ' ', full_text)\n",
        "\n",
        "    #debug\n",
        "    #print(f\"{i} {idx} {full_text}\")\n",
        "\n",
        "    words = full_text.lower().split()\n",
        "    filtered_words = list(set([w for w in words if w not in stops]))\n",
        "    fake_claims.append(filtered_words)\n",
        "    allwords.extend(filtered_words)\n",
        "\n",
        "print(f\"Processed {len(fake_claims)} false media claims\")\n"
      ]
    },
    {
      "cell_type": "code",
      "execution_count": null,
      "id": "9329a0b2-2a96-4a0c-94f9-a071b72b9d3a",
      "metadata": {
        "colab": {
          "base_uri": "https://localhost:8080/"
        },
        "id": "9329a0b2-2a96-4a0c-94f9-a071b72b9d3a",
        "outputId": "0fd1b392-6e16-4309-ce1f-50b4ab265996"
      },
      "outputs": [
        {
          "output_type": "stream",
          "name": "stdout",
          "text": [
            "\n",
            "Feature vector:\n",
            "Total Claims being used for Training: 5680\n",
            "Length of a Feature Vector: 1000\n"
          ]
        }
      ],
      "source": [
        "# Get the 1000 most frequent words\n",
        "wfreq = FreqDist(allwords)\n",
        "top1000 = wfreq.most_common(1000)\n",
        "\n",
        "# 2d array where each row represents a claim and it is a vector of 0/1's representing what features were present in the claim\n",
        "training = []\n",
        "# 1d array, each elm is 1/0 (true/false claim) associated with some statement feature vector in testing list\n",
        "trainingLabel = []\n",
        "\n",
        "# Process true claims for training\n",
        "print()\n",
        "print(\"Feature vector:\")\n",
        "for claimTokenList in true_claims:\n",
        "    featuresVect = []\n",
        "    for topWord, freq in top1000:\n",
        "        if topWord in claimTokenList:\n",
        "            featuresVect.append(1)\n",
        "        else:\n",
        "            featuresVect.append(0)\n",
        "    training.append(featuresVect)\n",
        "    trainingLabel.append(1)  # 1 for true news\n",
        "\n",
        "# Process fake claims for training\n",
        "for claimTokenList in fake_claims:\n",
        "    featuresVect = []\n",
        "    for (topWord, _) in top1000:\n",
        "        if topWord in claimTokenList:\n",
        "            featuresVect.append(1)\n",
        "        else:\n",
        "            featuresVect.append(0)\n",
        "    training.append(featuresVect)\n",
        "    trainingLabel.append(0)  # 0 for fake news\n",
        "\n",
        "print(f\"Total Claims being used for Training: {len(trainingLabel)}\")\n",
        "print(f\"Length of a Feature Vector: {len(training[0])}\")"
      ]
    },
    {
      "cell_type": "code",
      "execution_count": null,
      "id": "c1fd58d4-a3b7-4f10-9da9-9e021a5bf902",
      "metadata": {
        "colab": {
          "base_uri": "https://localhost:8080/"
        },
        "id": "c1fd58d4-a3b7-4f10-9da9-9e021a5bf902",
        "outputId": "6e8272db-6fef-4043-eff5-f5d82c3c7249"
      },
      "outputs": [
        {
          "output_type": "stream",
          "name": "stdout",
          "text": [
            "Sample of data entries:\n",
            "          label                                              claim  class\n",
            "13        false  Says 57 percent of federal spending goes to th...    0.0\n",
            "397       false  Gov. McDonnells proposed budget is cutting pub...    0.0\n",
            "140       false  Virginia has made no progress on jobs since Bo...    0.0\n",
            "667       false  On whether hes had a relationship with Vladimi...    0.0\n",
            "22   pants-fire  The number of illegal immigrants could be 3 mi...    0.0\n",
            "Total Entries: 802\n",
            "Count of 0's: 342\n",
            "Count of 1's: 460\n"
          ]
        }
      ],
      "source": [
        "# Read in test tsv file of claims to be used for testing, filter out one's that won't be used\n",
        "column_names = ['label', 'claim']\n",
        "test_df = pd.read_csv(\"nlp-fake-news-data/test.tsv\", sep=\"\\t\", header=None, names=column_names, usecols=[1,2], quoting=csv.QUOTE_NONE)\n",
        "test_df = fixDataFrame(test_df, label_mapping)\n",
        "\n",
        "#debug: check sample of data frame\n",
        "checkDF(test_df)"
      ]
    },
    {
      "cell_type": "code",
      "execution_count": null,
      "id": "02e623ed-c5e8-4b55-94f7-6a9ebfd055d3",
      "metadata": {
        "colab": {
          "base_uri": "https://localhost:8080/"
        },
        "id": "02e623ed-c5e8-4b55-94f7-6a9ebfd055d3",
        "outputId": "c6568a4f-d6a8-4795-b09a-fe68795d1275"
      },
      "outputs": [
        {
          "output_type": "stream",
          "name": "stdout",
          "text": [
            "\n",
            "Test dataset: 460 true articles, 342 fake articles\n"
          ]
        }
      ],
      "source": [
        "# Print test set stats\n",
        "test_true_count = len(test_df[test_df['label'].isin(true_labels)])\n",
        "test_fake_count = len(test_df[test_df['label'].isin(false_labels)])\n",
        "print(f\"\\nTest dataset: {test_true_count} true articles, {test_fake_count} fake articles\")"
      ]
    },
    {
      "cell_type": "code",
      "execution_count": null,
      "id": "cc44e1a7-f566-4d71-ba72-6d606ff256a8",
      "metadata": {
        "colab": {
          "base_uri": "https://localhost:8080/"
        },
        "id": "cc44e1a7-f566-4d71-ba72-6d606ff256a8",
        "outputId": "860109f2-34de-4c57-cbf3-c880191e1ad4"
      },
      "outputs": [
        {
          "output_type": "stream",
          "name": "stdout",
          "text": [
            "('says', 1265)\n"
          ]
        }
      ],
      "source": [
        "print(top1000[0])"
      ]
    },
    {
      "cell_type": "code",
      "execution_count": null,
      "id": "c950a719-7e6e-4ec7-8bef-c746cfe23386",
      "metadata": {
        "colab": {
          "base_uri": "https://localhost:8080/"
        },
        "id": "c950a719-7e6e-4ec7-8bef-c746cfe23386",
        "outputId": "6665a9ef-dc1a-4761-a07b-73b4513935dc"
      },
      "outputs": [
        {
          "output_type": "stream",
          "name": "stdout",
          "text": [
            "Total Claims being tested on: 802\n",
            "Length of a Feature Vector: 1000\n"
          ]
        }
      ],
      "source": [
        "# clean up, tokenize statements for each claim in the test data frame\n",
        "\n",
        "# 2d array where each row represents a claim and it is a vector of 0/1's representing what features were present in the claim\n",
        "testing = []\n",
        "# 1d array, each elm is 1/0 (true/false claim) associated with some statement feature vector in testing list\n",
        "testingLabel = []\n",
        "\n",
        "for (_, statement) in test_df.iterrows():\n",
        "    full_text = statement['claim']\n",
        "    full_text = re.sub(r'[^\\w\\s]', ' ', full_text)\n",
        "    full_text = re.sub(r'\\d+', ' ', full_text)\n",
        "    words = full_text.lower().split()\n",
        "    currentClaimTokens = list(set([w for w in words if w not in stops]))\n",
        "\n",
        "    featuresVect = []\n",
        "    for (topWord, _) in top1000:\n",
        "        if topWord in currentClaimTokens:\n",
        "            featuresVect.append(1)\n",
        "        else:\n",
        "            featuresVect.append(0)\n",
        "    testing.append(featuresVect)\n",
        "\n",
        "    # list that gets binary representation of claim being true (1) or false (0)\n",
        "    if statement['label'].lower() in true_labels:\n",
        "        testingLabel.append(1)\n",
        "    elif statement['label'].lower() in false_labels:\n",
        "        testingLabel.append(0)\n",
        "\n",
        "print(f\"Total Claims being tested on: {len(testingLabel)}\")\n",
        "print(f\"Length of a Feature Vector: {len(testing[0])}\")"
      ]
    },
    {
      "cell_type": "markdown",
      "id": "6374bff3-4fd6-4942-bc39-c7c22e6b8630",
      "metadata": {
        "id": "6374bff3-4fd6-4942-bc39-c7c22e6b8630"
      },
      "source": [
        "## Section 3: Formatting 2d feature matrix and 1d claim answer to CNN ready ojects\n",
        "\n",
        "- explanation for reshaping:\n",
        "    - 3 dimensional:\n",
        "    - x: batch size:\n",
        "      - number of samples in dataset (training or testing)\n",
        "      - Use: 2000 for training (50/50 split), 802 for testing\n",
        "    - y: sequence length:\n",
        "      - number of features per sample\n",
        "      - Use: 1000, since each claim has 1000 features from top words list\n",
        "    - z: features:\n",
        "      - represents values in a feature\n",
        "      - Use: 1 b/c 1 feature is a single number"
      ]
    },
    {
      "cell_type": "code",
      "execution_count": null,
      "id": "27a83615-20d3-4208-8492-852136574a3b",
      "metadata": {
        "colab": {
          "base_uri": "https://localhost:8080/"
        },
        "id": "27a83615-20d3-4208-8492-852136574a3b",
        "outputId": "2375f50d-d45f-40ba-abf3-0fd90d26fa35"
      },
      "outputs": [
        {
          "output_type": "stream",
          "name": "stdout",
          "text": [
            "Shape of training data:\n",
            "(5680, 1000, 1)\n",
            "(5680,)\n",
            "Shape of test data:\n",
            "(802, 1000, 1)\n",
            "(802,)\n"
          ]
        }
      ],
      "source": [
        "#format data to be in a specific shape for CNN\n",
        "\n",
        "# format into numpy matrices\n",
        "X_train = np.array(training)\n",
        "X_test = np.array(testing)\n",
        "y_train = np.array(trainingLabel)\n",
        "y_test = np.array(testingLabel)\n",
        "\n",
        "# reshaping\n",
        "X_train = X_train.reshape(-1, 1000, 1)\n",
        "X_test = X_test.reshape(-1, 1000, 1)\n",
        "\n",
        "print('Shape of training data:')\n",
        "print(X_train.shape)\n",
        "print(y_train.shape)\n",
        "print('Shape of test data:')\n",
        "print(X_test.shape)\n",
        "print(y_test.shape)\n",
        "\n",
        "import tensorflow as tf\n",
        "from tensorflow.keras.models import Sequential\n",
        "from tensorflow.keras.layers import Conv1D, MaxPooling1D, Dropout, Dense, Flatten\n"
      ]
    },
    {
      "cell_type": "code",
      "execution_count": null,
      "id": "9c34d5a9-3b19-4694-8377-e7fcd021df8c",
      "metadata": {
        "colab": {
          "base_uri": "https://localhost:8080/"
        },
        "id": "9c34d5a9-3b19-4694-8377-e7fcd021df8c",
        "outputId": "ca903b81-f8cc-465b-9489-e2639f90956b"
      },
      "outputs": [
        {
          "output_type": "stream",
          "name": "stderr",
          "text": [
            "/usr/local/lib/python3.11/dist-packages/keras/src/layers/convolutional/base_conv.py:107: UserWarning: Do not pass an `input_shape`/`input_dim` argument to a layer. When using Sequential models, prefer using an `Input(shape)` object as the first layer in the model instead.\n",
            "  super().__init__(activity_regularizer=activity_regularizer, **kwargs)\n"
          ]
        }
      ],
      "source": [
        "# Initialize and Compile the Model\n",
        "\n",
        "# Initialize the model\n",
        "model = Sequential([\n",
        "    Conv1D(filters=32, kernel_size=3, activation='relu', input_shape=(1000, 1)),\n",
        "    MaxPooling1D(pool_size=2),\n",
        "    Dropout(0.5),\n",
        "\n",
        "    Conv1D(filters=64, kernel_size=3, activation='relu'),\n",
        "    MaxPooling1D(pool_size=2),\n",
        "    Dropout(0.5),\n",
        "\n",
        "    Flatten(),\n",
        "    Dense(64, activation='relu'),\n",
        "    Dropout(0.5),\n",
        "\n",
        "    Dense(1, activation='sigmoid')  # Binary classification (true/fake)\n",
        "])\n",
        "\n",
        "# Compile the model\n",
        "model.compile(optimizer='adam', loss='binary_crossentropy', metrics=['accuracy'])"
      ]
    },
    {
      "cell_type": "code",
      "execution_count": null,
      "id": "LJsyTHourMbg",
      "metadata": {
        "colab": {
          "base_uri": "https://localhost:8080/",
          "height": 476
        },
        "id": "LJsyTHourMbg",
        "outputId": "04a52420-3b8a-41b4-a4df-01d679f106c3"
      },
      "outputs": [
        {
          "output_type": "display_data",
          "data": {
            "text/plain": [
              "\u001b[1mModel: \"sequential_4\"\u001b[0m\n"
            ],
            "text/html": [
              "<pre style=\"white-space:pre;overflow-x:auto;line-height:normal;font-family:Menlo,'DejaVu Sans Mono',consolas,'Courier New',monospace\"><span style=\"font-weight: bold\">Model: \"sequential_4\"</span>\n",
              "</pre>\n"
            ]
          },
          "metadata": {}
        },
        {
          "output_type": "display_data",
          "data": {
            "text/plain": [
              "┏━━━━━━━━━━━━━━━━━━━━━━━━━━━━━━━━━┳━━━━━━━━━━━━━━━━━━━━━━━━┳━━━━━━━━━━━━━━━┓\n",
              "┃\u001b[1m \u001b[0m\u001b[1mLayer (type)                   \u001b[0m\u001b[1m \u001b[0m┃\u001b[1m \u001b[0m\u001b[1mOutput Shape          \u001b[0m\u001b[1m \u001b[0m┃\u001b[1m \u001b[0m\u001b[1m      Param #\u001b[0m\u001b[1m \u001b[0m┃\n",
              "┡━━━━━━━━━━━━━━━━━━━━━━━━━━━━━━━━━╇━━━━━━━━━━━━━━━━━━━━━━━━╇━━━━━━━━━━━━━━━┩\n",
              "│ conv1d_10 (\u001b[38;5;33mConv1D\u001b[0m)              │ (\u001b[38;5;45mNone\u001b[0m, \u001b[38;5;34m998\u001b[0m, \u001b[38;5;34m32\u001b[0m)        │           \u001b[38;5;34m128\u001b[0m │\n",
              "├─────────────────────────────────┼────────────────────────┼───────────────┤\n",
              "│ max_pooling1d_10 (\u001b[38;5;33mMaxPooling1D\u001b[0m) │ (\u001b[38;5;45mNone\u001b[0m, \u001b[38;5;34m499\u001b[0m, \u001b[38;5;34m32\u001b[0m)        │             \u001b[38;5;34m0\u001b[0m │\n",
              "├─────────────────────────────────┼────────────────────────┼───────────────┤\n",
              "│ dropout_16 (\u001b[38;5;33mDropout\u001b[0m)            │ (\u001b[38;5;45mNone\u001b[0m, \u001b[38;5;34m499\u001b[0m, \u001b[38;5;34m32\u001b[0m)        │             \u001b[38;5;34m0\u001b[0m │\n",
              "├─────────────────────────────────┼────────────────────────┼───────────────┤\n",
              "│ conv1d_11 (\u001b[38;5;33mConv1D\u001b[0m)              │ (\u001b[38;5;45mNone\u001b[0m, \u001b[38;5;34m497\u001b[0m, \u001b[38;5;34m64\u001b[0m)        │         \u001b[38;5;34m6,208\u001b[0m │\n",
              "├─────────────────────────────────┼────────────────────────┼───────────────┤\n",
              "│ max_pooling1d_11 (\u001b[38;5;33mMaxPooling1D\u001b[0m) │ (\u001b[38;5;45mNone\u001b[0m, \u001b[38;5;34m248\u001b[0m, \u001b[38;5;34m64\u001b[0m)        │             \u001b[38;5;34m0\u001b[0m │\n",
              "├─────────────────────────────────┼────────────────────────┼───────────────┤\n",
              "│ dropout_17 (\u001b[38;5;33mDropout\u001b[0m)            │ (\u001b[38;5;45mNone\u001b[0m, \u001b[38;5;34m248\u001b[0m, \u001b[38;5;34m64\u001b[0m)        │             \u001b[38;5;34m0\u001b[0m │\n",
              "├─────────────────────────────────┼────────────────────────┼───────────────┤\n",
              "│ flatten_4 (\u001b[38;5;33mFlatten\u001b[0m)             │ (\u001b[38;5;45mNone\u001b[0m, \u001b[38;5;34m15872\u001b[0m)          │             \u001b[38;5;34m0\u001b[0m │\n",
              "├─────────────────────────────────┼────────────────────────┼───────────────┤\n",
              "│ dense_10 (\u001b[38;5;33mDense\u001b[0m)                │ (\u001b[38;5;45mNone\u001b[0m, \u001b[38;5;34m64\u001b[0m)             │     \u001b[38;5;34m1,015,872\u001b[0m │\n",
              "├─────────────────────────────────┼────────────────────────┼───────────────┤\n",
              "│ dropout_18 (\u001b[38;5;33mDropout\u001b[0m)            │ (\u001b[38;5;45mNone\u001b[0m, \u001b[38;5;34m64\u001b[0m)             │             \u001b[38;5;34m0\u001b[0m │\n",
              "├─────────────────────────────────┼────────────────────────┼───────────────┤\n",
              "│ dense_11 (\u001b[38;5;33mDense\u001b[0m)                │ (\u001b[38;5;45mNone\u001b[0m, \u001b[38;5;34m1\u001b[0m)              │            \u001b[38;5;34m65\u001b[0m │\n",
              "└─────────────────────────────────┴────────────────────────┴───────────────┘\n"
            ],
            "text/html": [
              "<pre style=\"white-space:pre;overflow-x:auto;line-height:normal;font-family:Menlo,'DejaVu Sans Mono',consolas,'Courier New',monospace\">┏━━━━━━━━━━━━━━━━━━━━━━━━━━━━━━━━━┳━━━━━━━━━━━━━━━━━━━━━━━━┳━━━━━━━━━━━━━━━┓\n",
              "┃<span style=\"font-weight: bold\"> Layer (type)                    </span>┃<span style=\"font-weight: bold\"> Output Shape           </span>┃<span style=\"font-weight: bold\">       Param # </span>┃\n",
              "┡━━━━━━━━━━━━━━━━━━━━━━━━━━━━━━━━━╇━━━━━━━━━━━━━━━━━━━━━━━━╇━━━━━━━━━━━━━━━┩\n",
              "│ conv1d_10 (<span style=\"color: #0087ff; text-decoration-color: #0087ff\">Conv1D</span>)              │ (<span style=\"color: #00d7ff; text-decoration-color: #00d7ff\">None</span>, <span style=\"color: #00af00; text-decoration-color: #00af00\">998</span>, <span style=\"color: #00af00; text-decoration-color: #00af00\">32</span>)        │           <span style=\"color: #00af00; text-decoration-color: #00af00\">128</span> │\n",
              "├─────────────────────────────────┼────────────────────────┼───────────────┤\n",
              "│ max_pooling1d_10 (<span style=\"color: #0087ff; text-decoration-color: #0087ff\">MaxPooling1D</span>) │ (<span style=\"color: #00d7ff; text-decoration-color: #00d7ff\">None</span>, <span style=\"color: #00af00; text-decoration-color: #00af00\">499</span>, <span style=\"color: #00af00; text-decoration-color: #00af00\">32</span>)        │             <span style=\"color: #00af00; text-decoration-color: #00af00\">0</span> │\n",
              "├─────────────────────────────────┼────────────────────────┼───────────────┤\n",
              "│ dropout_16 (<span style=\"color: #0087ff; text-decoration-color: #0087ff\">Dropout</span>)            │ (<span style=\"color: #00d7ff; text-decoration-color: #00d7ff\">None</span>, <span style=\"color: #00af00; text-decoration-color: #00af00\">499</span>, <span style=\"color: #00af00; text-decoration-color: #00af00\">32</span>)        │             <span style=\"color: #00af00; text-decoration-color: #00af00\">0</span> │\n",
              "├─────────────────────────────────┼────────────────────────┼───────────────┤\n",
              "│ conv1d_11 (<span style=\"color: #0087ff; text-decoration-color: #0087ff\">Conv1D</span>)              │ (<span style=\"color: #00d7ff; text-decoration-color: #00d7ff\">None</span>, <span style=\"color: #00af00; text-decoration-color: #00af00\">497</span>, <span style=\"color: #00af00; text-decoration-color: #00af00\">64</span>)        │         <span style=\"color: #00af00; text-decoration-color: #00af00\">6,208</span> │\n",
              "├─────────────────────────────────┼────────────────────────┼───────────────┤\n",
              "│ max_pooling1d_11 (<span style=\"color: #0087ff; text-decoration-color: #0087ff\">MaxPooling1D</span>) │ (<span style=\"color: #00d7ff; text-decoration-color: #00d7ff\">None</span>, <span style=\"color: #00af00; text-decoration-color: #00af00\">248</span>, <span style=\"color: #00af00; text-decoration-color: #00af00\">64</span>)        │             <span style=\"color: #00af00; text-decoration-color: #00af00\">0</span> │\n",
              "├─────────────────────────────────┼────────────────────────┼───────────────┤\n",
              "│ dropout_17 (<span style=\"color: #0087ff; text-decoration-color: #0087ff\">Dropout</span>)            │ (<span style=\"color: #00d7ff; text-decoration-color: #00d7ff\">None</span>, <span style=\"color: #00af00; text-decoration-color: #00af00\">248</span>, <span style=\"color: #00af00; text-decoration-color: #00af00\">64</span>)        │             <span style=\"color: #00af00; text-decoration-color: #00af00\">0</span> │\n",
              "├─────────────────────────────────┼────────────────────────┼───────────────┤\n",
              "│ flatten_4 (<span style=\"color: #0087ff; text-decoration-color: #0087ff\">Flatten</span>)             │ (<span style=\"color: #00d7ff; text-decoration-color: #00d7ff\">None</span>, <span style=\"color: #00af00; text-decoration-color: #00af00\">15872</span>)          │             <span style=\"color: #00af00; text-decoration-color: #00af00\">0</span> │\n",
              "├─────────────────────────────────┼────────────────────────┼───────────────┤\n",
              "│ dense_10 (<span style=\"color: #0087ff; text-decoration-color: #0087ff\">Dense</span>)                │ (<span style=\"color: #00d7ff; text-decoration-color: #00d7ff\">None</span>, <span style=\"color: #00af00; text-decoration-color: #00af00\">64</span>)             │     <span style=\"color: #00af00; text-decoration-color: #00af00\">1,015,872</span> │\n",
              "├─────────────────────────────────┼────────────────────────┼───────────────┤\n",
              "│ dropout_18 (<span style=\"color: #0087ff; text-decoration-color: #0087ff\">Dropout</span>)            │ (<span style=\"color: #00d7ff; text-decoration-color: #00d7ff\">None</span>, <span style=\"color: #00af00; text-decoration-color: #00af00\">64</span>)             │             <span style=\"color: #00af00; text-decoration-color: #00af00\">0</span> │\n",
              "├─────────────────────────────────┼────────────────────────┼───────────────┤\n",
              "│ dense_11 (<span style=\"color: #0087ff; text-decoration-color: #0087ff\">Dense</span>)                │ (<span style=\"color: #00d7ff; text-decoration-color: #00d7ff\">None</span>, <span style=\"color: #00af00; text-decoration-color: #00af00\">1</span>)              │            <span style=\"color: #00af00; text-decoration-color: #00af00\">65</span> │\n",
              "└─────────────────────────────────┴────────────────────────┴───────────────┘\n",
              "</pre>\n"
            ]
          },
          "metadata": {}
        },
        {
          "output_type": "display_data",
          "data": {
            "text/plain": [
              "\u001b[1m Total params: \u001b[0m\u001b[38;5;34m1,022,273\u001b[0m (3.90 MB)\n"
            ],
            "text/html": [
              "<pre style=\"white-space:pre;overflow-x:auto;line-height:normal;font-family:Menlo,'DejaVu Sans Mono',consolas,'Courier New',monospace\"><span style=\"font-weight: bold\"> Total params: </span><span style=\"color: #00af00; text-decoration-color: #00af00\">1,022,273</span> (3.90 MB)\n",
              "</pre>\n"
            ]
          },
          "metadata": {}
        },
        {
          "output_type": "display_data",
          "data": {
            "text/plain": [
              "\u001b[1m Trainable params: \u001b[0m\u001b[38;5;34m1,022,273\u001b[0m (3.90 MB)\n"
            ],
            "text/html": [
              "<pre style=\"white-space:pre;overflow-x:auto;line-height:normal;font-family:Menlo,'DejaVu Sans Mono',consolas,'Courier New',monospace\"><span style=\"font-weight: bold\"> Trainable params: </span><span style=\"color: #00af00; text-decoration-color: #00af00\">1,022,273</span> (3.90 MB)\n",
              "</pre>\n"
            ]
          },
          "metadata": {}
        },
        {
          "output_type": "display_data",
          "data": {
            "text/plain": [
              "\u001b[1m Non-trainable params: \u001b[0m\u001b[38;5;34m0\u001b[0m (0.00 B)\n"
            ],
            "text/html": [
              "<pre style=\"white-space:pre;overflow-x:auto;line-height:normal;font-family:Menlo,'DejaVu Sans Mono',consolas,'Courier New',monospace\"><span style=\"font-weight: bold\"> Non-trainable params: </span><span style=\"color: #00af00; text-decoration-color: #00af00\">0</span> (0.00 B)\n",
              "</pre>\n"
            ]
          },
          "metadata": {}
        }
      ],
      "source": [
        "# Print summary\n",
        "model.summary()\n"
      ]
    },
    {
      "cell_type": "markdown",
      "id": "fXzOJtolrUVb",
      "metadata": {
        "id": "fXzOJtolrUVb"
      },
      "source": [
        "## Section 4: Training The model"
      ]
    },
    {
      "cell_type": "code",
      "execution_count": null,
      "id": "rR695L4nrRHp",
      "metadata": {
        "colab": {
          "base_uri": "https://localhost:8080/"
        },
        "id": "rR695L4nrRHp",
        "outputId": "4f7c9c49-96fa-4152-ba5b-50a323e5186c"
      },
      "outputs": [
        {
          "output_type": "stream",
          "name": "stdout",
          "text": [
            "Epoch 1/25\n",
            "\u001b[1m89/89\u001b[0m \u001b[32m━━━━━━━━━━━━━━━━━━━━\u001b[0m\u001b[37m\u001b[0m \u001b[1m8s\u001b[0m 46ms/step - accuracy: 0.5156 - loss: 0.6901 - val_accuracy: 0.5935 - val_loss: 0.6750\n",
            "Epoch 2/25\n",
            "\u001b[1m89/89\u001b[0m \u001b[32m━━━━━━━━━━━━━━━━━━━━\u001b[0m\u001b[37m\u001b[0m \u001b[1m1s\u001b[0m 12ms/step - accuracy: 0.5942 - loss: 0.6630 - val_accuracy: 0.5948 - val_loss: 0.6658\n",
            "Epoch 3/25\n",
            "\u001b[1m89/89\u001b[0m \u001b[32m━━━━━━━━━━━━━━━━━━━━\u001b[0m\u001b[37m\u001b[0m \u001b[1m1s\u001b[0m 10ms/step - accuracy: 0.6360 - loss: 0.6421 - val_accuracy: 0.6022 - val_loss: 0.6579\n",
            "Epoch 4/25\n",
            "\u001b[1m89/89\u001b[0m \u001b[32m━━━━━━━━━━━━━━━━━━━━\u001b[0m\u001b[37m\u001b[0m \u001b[1m1s\u001b[0m 10ms/step - accuracy: 0.6577 - loss: 0.6198 - val_accuracy: 0.6010 - val_loss: 0.6632\n",
            "Epoch 5/25\n",
            "\u001b[1m89/89\u001b[0m \u001b[32m━━━━━━━━━━━━━━━━━━━━\u001b[0m\u001b[37m\u001b[0m \u001b[1m1s\u001b[0m 10ms/step - accuracy: 0.6654 - loss: 0.6002 - val_accuracy: 0.6060 - val_loss: 0.6673\n",
            "Epoch 6/25\n",
            "\u001b[1m89/89\u001b[0m \u001b[32m━━━━━━━━━━━━━━━━━━━━\u001b[0m\u001b[37m\u001b[0m \u001b[1m1s\u001b[0m 10ms/step - accuracy: 0.7027 - loss: 0.5800 - val_accuracy: 0.6135 - val_loss: 0.6691\n",
            "Epoch 7/25\n",
            "\u001b[1m89/89\u001b[0m \u001b[32m━━━━━━━━━━━━━━━━━━━━\u001b[0m\u001b[37m\u001b[0m \u001b[1m1s\u001b[0m 12ms/step - accuracy: 0.7272 - loss: 0.5390 - val_accuracy: 0.5935 - val_loss: 0.6848\n",
            "Epoch 8/25\n",
            "\u001b[1m89/89\u001b[0m \u001b[32m━━━━━━━━━━━━━━━━━━━━\u001b[0m\u001b[37m\u001b[0m \u001b[1m1s\u001b[0m 13ms/step - accuracy: 0.7505 - loss: 0.5109 - val_accuracy: 0.5910 - val_loss: 0.6895\n",
            "Epoch 9/25\n",
            "\u001b[1m89/89\u001b[0m \u001b[32m━━━━━━━━━━━━━━━━━━━━\u001b[0m\u001b[37m\u001b[0m \u001b[1m1s\u001b[0m 11ms/step - accuracy: 0.7543 - loss: 0.4942 - val_accuracy: 0.5711 - val_loss: 0.7174\n",
            "Epoch 10/25\n",
            "\u001b[1m89/89\u001b[0m \u001b[32m━━━━━━━━━━━━━━━━━━━━\u001b[0m\u001b[37m\u001b[0m \u001b[1m1s\u001b[0m 10ms/step - accuracy: 0.7794 - loss: 0.4540 - val_accuracy: 0.5773 - val_loss: 0.7334\n",
            "Epoch 11/25\n",
            "\u001b[1m89/89\u001b[0m \u001b[32m━━━━━━━━━━━━━━━━━━━━\u001b[0m\u001b[37m\u001b[0m \u001b[1m1s\u001b[0m 11ms/step - accuracy: 0.7934 - loss: 0.4484 - val_accuracy: 0.5898 - val_loss: 0.7534\n",
            "Epoch 12/25\n",
            "\u001b[1m89/89\u001b[0m \u001b[32m━━━━━━━━━━━━━━━━━━━━\u001b[0m\u001b[37m\u001b[0m \u001b[1m1s\u001b[0m 11ms/step - accuracy: 0.8140 - loss: 0.4076 - val_accuracy: 0.5810 - val_loss: 0.7776\n",
            "Epoch 13/25\n",
            "\u001b[1m89/89\u001b[0m \u001b[32m━━━━━━━━━━━━━━━━━━━━\u001b[0m\u001b[37m\u001b[0m \u001b[1m1s\u001b[0m 11ms/step - accuracy: 0.8165 - loss: 0.4050 - val_accuracy: 0.5910 - val_loss: 0.8074\n",
            "Epoch 14/25\n",
            "\u001b[1m89/89\u001b[0m \u001b[32m━━━━━━━━━━━━━━━━━━━━\u001b[0m\u001b[37m\u001b[0m \u001b[1m1s\u001b[0m 11ms/step - accuracy: 0.8271 - loss: 0.3844 - val_accuracy: 0.5898 - val_loss: 0.8114\n",
            "Epoch 15/25\n",
            "\u001b[1m89/89\u001b[0m \u001b[32m━━━━━━━━━━━━━━━━━━━━\u001b[0m\u001b[37m\u001b[0m \u001b[1m1s\u001b[0m 11ms/step - accuracy: 0.8272 - loss: 0.3610 - val_accuracy: 0.6022 - val_loss: 0.7771\n",
            "Epoch 16/25\n",
            "\u001b[1m89/89\u001b[0m \u001b[32m━━━━━━━━━━━━━━━━━━━━\u001b[0m\u001b[37m\u001b[0m \u001b[1m1s\u001b[0m 11ms/step - accuracy: 0.8291 - loss: 0.3548 - val_accuracy: 0.5998 - val_loss: 0.8350\n",
            "Epoch 17/25\n",
            "\u001b[1m89/89\u001b[0m \u001b[32m━━━━━━━━━━━━━━━━━━━━\u001b[0m\u001b[37m\u001b[0m \u001b[1m1s\u001b[0m 11ms/step - accuracy: 0.8552 - loss: 0.3336 - val_accuracy: 0.6097 - val_loss: 0.8228\n",
            "Epoch 18/25\n",
            "\u001b[1m89/89\u001b[0m \u001b[32m━━━━━━━━━━━━━━━━━━━━\u001b[0m\u001b[37m\u001b[0m \u001b[1m1s\u001b[0m 12ms/step - accuracy: 0.8481 - loss: 0.3359 - val_accuracy: 0.6035 - val_loss: 0.8863\n",
            "Epoch 19/25\n",
            "\u001b[1m89/89\u001b[0m \u001b[32m━━━━━━━━━━━━━━━━━━━━\u001b[0m\u001b[37m\u001b[0m \u001b[1m1s\u001b[0m 12ms/step - accuracy: 0.8627 - loss: 0.3063 - val_accuracy: 0.5985 - val_loss: 0.9097\n",
            "Epoch 20/25\n",
            "\u001b[1m89/89\u001b[0m \u001b[32m━━━━━━━━━━━━━━━━━━━━\u001b[0m\u001b[37m\u001b[0m \u001b[1m1s\u001b[0m 11ms/step - accuracy: 0.8676 - loss: 0.2930 - val_accuracy: 0.5985 - val_loss: 0.8897\n",
            "Epoch 21/25\n",
            "\u001b[1m89/89\u001b[0m \u001b[32m━━━━━━━━━━━━━━━━━━━━\u001b[0m\u001b[37m\u001b[0m \u001b[1m1s\u001b[0m 11ms/step - accuracy: 0.8750 - loss: 0.2939 - val_accuracy: 0.5923 - val_loss: 0.9658\n",
            "Epoch 22/25\n",
            "\u001b[1m89/89\u001b[0m \u001b[32m━━━━━━━━━━━━━━━━━━━━\u001b[0m\u001b[37m\u001b[0m \u001b[1m1s\u001b[0m 11ms/step - accuracy: 0.8785 - loss: 0.2822 - val_accuracy: 0.5910 - val_loss: 0.9273\n",
            "Epoch 23/25\n",
            "\u001b[1m89/89\u001b[0m \u001b[32m━━━━━━━━━━━━━━━━━━━━\u001b[0m\u001b[37m\u001b[0m \u001b[1m1s\u001b[0m 11ms/step - accuracy: 0.8849 - loss: 0.2644 - val_accuracy: 0.6010 - val_loss: 0.9476\n",
            "Epoch 24/25\n",
            "\u001b[1m89/89\u001b[0m \u001b[32m━━━━━━━━━━━━━━━━━━━━\u001b[0m\u001b[37m\u001b[0m \u001b[1m1s\u001b[0m 11ms/step - accuracy: 0.8779 - loss: 0.2725 - val_accuracy: 0.5923 - val_loss: 0.9224\n",
            "Epoch 25/25\n",
            "\u001b[1m89/89\u001b[0m \u001b[32m━━━━━━━━━━━━━━━━━━━━\u001b[0m\u001b[37m\u001b[0m \u001b[1m1s\u001b[0m 11ms/step - accuracy: 0.8848 - loss: 0.2695 - val_accuracy: 0.6072 - val_loss: 0.9736\n"
          ]
        }
      ],
      "source": [
        "# Train the model\n",
        "history = model.fit(X_train, y_train, epochs=25, batch_size=64, validation_data=(X_test, y_test))"
      ]
    },
    {
      "cell_type": "markdown",
      "id": "H7kkuVQrrYsx",
      "metadata": {
        "id": "H7kkuVQrrYsx"
      },
      "source": [
        "## Section 5: Evaluation of The Model"
      ]
    },
    {
      "cell_type": "code",
      "execution_count": null,
      "id": "eqcyOXrDrX6v",
      "metadata": {
        "colab": {
          "base_uri": "https://localhost:8080/"
        },
        "id": "eqcyOXrDrX6v",
        "outputId": "9ed5bda1-dddf-49e9-8509-4dd986187b2a"
      },
      "outputs": [
        {
          "output_type": "stream",
          "name": "stdout",
          "text": [
            "\u001b[1m26/26\u001b[0m \u001b[32m━━━━━━━━━━━━━━━━━━━━\u001b[0m\u001b[37m\u001b[0m \u001b[1m0s\u001b[0m 10ms/step - accuracy: 0.6038 - loss: 0.9905\n",
            "Test accuracy: 0.6072\n"
          ]
        }
      ],
      "source": [
        "# Evaluate on test data\n",
        "test_loss, test_accuracy = model.evaluate(X_test, y_test)\n",
        "print(f\"Test accuracy: {test_accuracy:.4f}\")"
      ]
    },
    {
      "cell_type": "code",
      "execution_count": null,
      "id": "MzYEQhK2rrl5",
      "metadata": {
        "colab": {
          "base_uri": "https://localhost:8080/"
        },
        "id": "MzYEQhK2rrl5",
        "outputId": "774a3385-cc36-4498-b0a9-9687223ab8f2"
      },
      "outputs": [
        {
          "output_type": "stream",
          "name": "stdout",
          "text": [
            "\u001b[1m26/26\u001b[0m \u001b[32m━━━━━━━━━━━━━━━━━━━━\u001b[0m\u001b[37m\u001b[0m \u001b[1m0s\u001b[0m 10ms/step\n"
          ]
        }
      ],
      "source": [
        "# Make predictions\n",
        "y_pred_prob = model.predict(X_test)\n",
        "y_pred = (y_pred_prob > 0.5).astype(int).flatten()\n",
        "\n",
        "# Calculate metrics\n",
        "precision = metrics.precision_score(y_test, y_pred)\n",
        "recall = metrics.recall_score(y_test, y_pred)\n",
        "f1 = metrics.f1_score(y_test, y_pred)\n",
        "conf_matrix = metrics.confusion_matrix(y_test, y_pred)\n"
      ]
    },
    {
      "cell_type": "code",
      "execution_count": null,
      "id": "BJF8NJaarzkL",
      "metadata": {
        "colab": {
          "base_uri": "https://localhost:8080/",
          "height": 1000
        },
        "id": "BJF8NJaarzkL",
        "outputId": "9fa9f5aa-9a63-4554-bd79-4ac572786dec"
      },
      "outputs": [
        {
          "output_type": "stream",
          "name": "stdout",
          "text": [
            "\n",
            "Test Results:\n",
            "Precision: 0.6682\n",
            "Recall: 0.6261\n",
            "F1 Score: 0.6465\n",
            "Confusion Matrix:\n",
            "[[199 143]\n",
            " [172 288]]\n",
            "\n"
          ]
        },
        {
          "output_type": "display_data",
          "data": {
            "text/plain": [
              "<Figure size 640x480 with 1 Axes>"
            ],
            "image/png": "[encoded data removed]"
          },
          "metadata": {}
        },
        {
          "output_type": "display_data",
          "data": {
            "text/plain": [
              "<Figure size 640x480 with 1 Axes>"
            ],
            "image/png": "[encoded data removed]"
          },
          "metadata": {}
        }
      ],
      "source": [
        "print()\n",
        "print(\"Test Results:\")\n",
        "print(f\"Precision: {precision:.4f}\")\n",
        "print(f\"Recall: {recall:.4f}\")\n",
        "print(f\"F1 Score: {f1:.4f}\")\n",
        "print(f\"Confusion Matrix:\\n{conf_matrix}\")\n",
        "\n",
        "print()\n",
        "plt.plot(range(0,25), history.history['accuracy'], color = 'blue'); plt.xlabel('Epochs'); plt.ylabel('Accuracy'); plt.title('Accuracy of a CNN over 15 Epochs'); plt.show()\n",
        "plt.plot(range(0,25), history.history['loss'], color = 'red'); plt.xlabel('Epochs'); plt.ylabel('Loss'); plt.title('Loss of a CNN over 15 Epochs'); plt.show()"
      ]
    },
    {
      "cell_type": "code",
      "execution_count": null,
      "id": "ceLKeckyr56M",
      "metadata": {
        "id": "ceLKeckyr56M"
      },
      "outputs": [],
      "source": []
    }
  ],
  "metadata": {
    "accelerator": "GPU",
    "colab": {
      "gpuType": "T4",
      "provenance": [],
      "include_colab_link": true
    },
    "kernelspec": {
      "display_name": "Python 3 (ipykernel)",
      "language": "python",
      "name": "python3"
    },
    "language_info": {
      "codemirror_mode": {
        "name": "ipython",
        "version": 3
      },
      "file_extension": ".py",
      "mimetype": "text/x-python",
      "name": "python",
      "nbconvert_exporter": "python",
      "pygments_lexer": "ipython3",
      "version": "3.13.2"
    }
  },
  "nbformat": 4,
  "nbformat_minor": 5
}