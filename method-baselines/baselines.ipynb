{
 "cells": [
  {
   "cell_type": "code",
   "execution_count": 1,
   "id": "5667b6ad-1c3e-4656-bc12-f4419dba5d21",
   "metadata": {},
   "outputs": [
    {
     "data": {
      "text/plain": [
       "True"
      ]
     },
     "execution_count": 1,
     "metadata": {},
     "output_type": "execute_result"
    }
   ],
   "source": [
    "# std libraries\n",
    "import csv\n",
    "import re\n",
    "import ssl\n",
    "# data science libraries \n",
    "import matplotlib.pyplot as plt\n",
    "import numpy as np\n",
    "import pandas as pd\n",
    "import seaborn as sns\n",
    "# nlp libraries\n",
    "import nltk\n",
    "from nltk.corpus import stopwords\n",
    "from nltk.stem import WordNetLemmatizer\n",
    "from nltk.tokenize import word_tokenize\n",
    "# sklearning ml libraries \n",
    "from sklearn.feature_extraction.text import CountVectorizer\n",
    "from sklearn.linear_model import LogisticRegression\n",
    "from sklearn.metrics import accuracy_score, classification_report, confusion_matrix\n",
    "from sklearn.model_selection import train_test_split\n",
    "from sklearn.naive_bayes import MultinomialNB\n",
    "from sklearn.svm import LinearSVC\n",
    "\n",
    "# SSL for nltk downloads\n",
    "try:\n",
    "    _create_unverified_https_context = ssl._create_unverified_context\n",
    "except AttributeError:\n",
    "    pass\n",
    "else:\n",
    "    ssl._create_default_https_context = _create_unverified_https_context\n",
    "\n",
    "# Download NLTK resources\n",
    "nltk.download('stopwords', quiet=True)\n",
    "nltk.download('punkt', quiet=True)\n",
    "nltk.download('wordnet', quiet=True)"
   ]
  },
  {
   "cell_type": "code",
   "execution_count": 2,
   "id": "c758e2be-caeb-496d-a994-7e8cf99db588",
   "metadata": {},
   "outputs": [],
   "source": [
    "#create label to classification relations\n",
    "\n",
    "#true, mostly-true, half-true, barely-true, false, pants-fire\n",
    "true_labels = ['true', 'mostly-true']\n",
    "false_labels = ['false', 'pants-fire']\n",
    "\n",
    "#create map for each label and it's class (0/1)\n",
    "label_mapping = {label: 1 for label in true_labels}\n",
    "label_mapping.update({label: 0 for label in false_labels})"
   ]
  },
  {
   "cell_type": "code",
   "execution_count": 3,
   "id": "6db0b421-5b44-42e1-93fc-31ac922728f3",
   "metadata": {},
   "outputs": [],
   "source": [
    "# Read in the training dataset\n",
    "#tsv structure: statement: with properties => label, claim, (add 'class' column at the end)\n",
    "\n",
    "#each row is called a claim\n",
    "col_dict = {\n",
    "    \"id\": 0, \n",
    "    \"label\": 1, \n",
    "    \"statement\": 2, \n",
    "    \"subject\": 3, \n",
    "    \"speaker\": 4,\n",
    "    \"speaker_job_title\": 5,\n",
    "    \"state\": 6,\n",
    "    \"party_affiliation\": 7, \n",
    "    \"barely_true_counts\": 8,\n",
    "    \"false_counts\": 9,\n",
    "    \"half_true_counts\": 10,\n",
    "    \"mostly_true_counts\": 11, \n",
    "    \"pants_on_fire_counts\": 12,\n",
    "    \"context\": 13\n",
    "}\n",
    "\n",
    "column_names = [\"label\", \"statement\", 'subject', 'speaker', 'speaker_job_title', 'party_affiliation', 'context']\n",
    "usecols = [col_dict[key] for key in column_names]\n",
    "\n",
    "train_df_og = pd.read_csv(\"../train.tsv\", sep=\"\\t\", header=None, names=column_names, usecols=usecols, quoting=csv.QUOTE_NONE)\n",
    "test_df = pd.read_csv(\"../test.tsv\", sep=\"\\t\", header=None, names=column_names, usecols=usecols, quoting=csv.QUOTE_NONE)\n"
   ]
  },
  {
   "cell_type": "code",
   "execution_count": 4,
   "id": "19d0aee5-43d3-4c92-aa67-22237fabb5fc",
   "metadata": {},
   "outputs": [],
   "source": [
    "# create new column with 'class' being either 0/1 based on the label\n",
    "# we'll also drop any claim row that doesn't have one of the labels we're looking at\n",
    "def fixDataFrame(df, label_mapping):\n",
    "    df['class'] = df['label'].str.strip().str.lower().map(label_mapping)\n",
    "    return df.dropna(subset=['class'])\n",
    "def checkDF(df):\n",
    "    print(\"Sample of data entries:\")\n",
    "    print(df.sample(5, random_state=0))\n",
    "    print(f\"Total Entries: {len(df)}\")\n",
    "\n",
    "    counts = df['class'].value_counts()\n",
    "    print(f\"Count of 0's: {counts.get(0, 0)}\")\n",
    "    print(f\"Count of 1's: {counts.get(1, 0)}\")\n",
    "\n",
    "train_df = fixDataFrame(train_df_og, label_mapping)\n",
    "test_df = fixDataFrame(test_df, label_mapping)"
   ]
  },
  {
   "cell_type": "code",
   "execution_count": 5,
   "id": "c87c18fe-89e0-43a7-b10c-fd686ad46d7c",
   "metadata": {},
   "outputs": [
    {
     "name": "stdout",
     "output_type": "stream",
     "text": [
      "Training label dist:\n",
      "label\n",
      "false          1998\n",
      "mostly-true    1966\n",
      "true           1683\n",
      "pants-fire      842\n",
      "Name: count, dtype: int64\n",
      "\n",
      "Total True Claims: 3649\n",
      "Total True Claims: 2840\n"
     ]
    }
   ],
   "source": [
    "# Print label distribution\n",
    "print(\"Training label dist:\")\n",
    "print(train_df['label'].value_counts())\n",
    "print()\n",
    "print(f\"Total True Claims: {len(train_df[train_df['label'].isin(true_labels)])}\")\n",
    "print(f\"Total True Claims: {len(train_df[train_df['label'].isin(false_labels)])}\")\n",
    "\n",
    "# Create True and Fake media claims Data Frame\n",
    "true_df = train_df[train_df['label'].isin(true_labels)]\n",
    "false_df = train_df[train_df['label'].isin(false_labels)]"
   ]
  },
  {
   "cell_type": "code",
   "execution_count": 6,
   "id": "f780a3e9-b460-44e4-957e-a8ebb16e2c41",
   "metadata": {},
   "outputs": [
    {
     "name": "stdout",
     "output_type": "stream",
     "text": [
      "\n",
      "Balanced training label dist:\n",
      "class\n",
      "1.0    2840\n",
      "0.0    2840\n",
      "Name: count, dtype: int64\n"
     ]
    }
   ],
   "source": [
    "# max possible claims that can be used to train false and true \n",
    "# Balance the training dataset (50/50)\n",
    "maxClaims = min(len(false_df), len(true_df))\n",
    "true_df = true_df.sample(maxClaims, random_state=10)\n",
    "false_df = false_df.sample(maxClaims, random_state=10)\n",
    "balanced_train_df = pd.concat([true_df, false_df]).sample(frac=1, random_state=42).reset_index(drop=True)\n",
    "\n",
    "print(\"\\nBalanced training label dist:\")\n",
    "print(balanced_train_df['class'].value_counts())"
   ]
  },
  {
   "cell_type": "code",
   "execution_count": 7,
   "id": "951300e3-9bc6-470c-9fd8-b5050530da87",
   "metadata": {},
   "outputs": [
    {
     "name": "stdout",
     "output_type": "stream",
     "text": [
      "\n",
      "Test label dist:\n",
      "label\n",
      "false          250\n",
      "mostly-true    249\n",
      "true           211\n",
      "pants-fire      92\n",
      "Name: count, dtype: int64\n",
      "\n",
      "Counts of binary classification (1:true, 0: false)\n",
      "class\n",
      "1.0    460\n",
      "0.0    342\n",
      "Name: count, dtype: int64\n"
     ]
    }
   ],
   "source": [
    "# Testing Label DataFrame\n",
    "\n",
    "print(\"\\nTest label dist:\")\n",
    "print(test_df['label'].value_counts())\n",
    "\n",
    "print(\"\\nCounts of binary classification (1:true, 0: false)\")\n",
    "print(test_df['class'].value_counts())"
   ]
  },
  {
   "cell_type": "code",
   "execution_count": 8,
   "id": "cf3bb478-a5b6-4542-b6d2-bf8acd7b221d",
   "metadata": {},
   "outputs": [],
   "source": [
    "# Preprocessing, create new column 'clean_text'\n",
    "def preprocess_text(text):\n",
    "    text = re.sub(r'[^a-zA-Z]', ' ', str(text)).lower()\n",
    "    tokens = word_tokenize(text)\n",
    "    tokens = [word for word in tokens if word not in stopwords.words('english')]\n",
    "    lemmatizer = WordNetLemmatizer()\n",
    "    tokens = [lemmatizer.lemmatize(word) for word in tokens]\n",
    "    return ' '.join(tokens)\n",
    "\n",
    "balanced_train_df['clean_text'] = balanced_train_df['statement'].apply(preprocess_text)\n",
    "test_df['clean_text'] = test_df['statement'].apply(preprocess_text)"
   ]
  },
  {
   "cell_type": "code",
   "execution_count": 9,
   "id": "18cc91ca-460d-47d2-bca9-ad9a9ad75416",
   "metadata": {},
   "outputs": [
    {
     "name": "stdout",
     "output_type": "stream",
     "text": [
      "\n",
      "Naive Bayes:\n",
      "Accuracy: 0.6309\n",
      "Classification Report:\n",
      "               precision    recall  f1-score   support\n",
      "\n",
      "         0.0       0.57      0.58      0.57       342\n",
      "         1.0       0.68      0.67      0.68       460\n",
      "\n",
      "    accuracy                           0.63       802\n",
      "   macro avg       0.62      0.62      0.62       802\n",
      "weighted avg       0.63      0.63      0.63       802\n",
      "\n",
      "Logistic Regression:\n",
      "Accuracy: 0.6172\n",
      "Classification Report:\n",
      "               precision    recall  f1-score   support\n",
      "\n",
      "         0.0       0.55      0.61      0.58       342\n",
      "         1.0       0.68      0.62      0.65       460\n",
      "\n",
      "    accuracy                           0.62       802\n",
      "   macro avg       0.61      0.62      0.61       802\n",
      "weighted avg       0.62      0.62      0.62       802\n",
      "\n",
      "SVC:\n",
      "Accuracy: 0.5848\n",
      "Classification Report:\n",
      "               precision    recall  f1-score   support\n",
      "\n",
      "         0.0       0.51      0.58      0.54       342\n",
      "         1.0       0.65      0.59      0.62       460\n",
      "\n",
      "    accuracy                           0.58       802\n",
      "   macro avg       0.58      0.58      0.58       802\n",
      "weighted avg       0.59      0.58      0.59       802\n",
      "\n"
     ]
    },
    {
     "data": {
      "image/png": "[encoded data removed]",
      "text/plain": [
       "<Figure size 600x500 with 1 Axes>"
      ]
     },
     "metadata": {},
     "output_type": "display_data"
    },
    {
     "data": {
      "image/png": "[encoded data removed]",
      "text/plain": [
       "<Figure size 600x500 with 1 Axes>"
      ]
     },
     "metadata": {},
     "output_type": "display_data"
    },
    {
     "data": {
      "image/png": "[encoded data removed]",
      "text/plain": [
       "<Figure size 600x500 with 1 Axes>"
      ]
     },
     "metadata": {},
     "output_type": "display_data"
    }
   ],
   "source": [
    "# Vectorization\n",
    "vectorizer = CountVectorizer(max_features=5000)\n",
    "X_train = vectorizer.fit_transform(balanced_train_df['clean_text'])\n",
    "y_train = balanced_train_df['class']\n",
    "X_test = vectorizer.transform(test_df['clean_text'])\n",
    "y_test = test_df['class']\n",
    "\n",
    "# Naive Bayes\n",
    "nb_classifier = MultinomialNB()\n",
    "nb_classifier.fit(X_train, y_train)\n",
    "y_pred = nb_classifier.predict(X_test)\n",
    "accuracy = accuracy_score(y_test, y_pred)\n",
    "print(\"\\nNaive Bayes:\")\n",
    "print(f\"Accuracy: {accuracy:.4f}\")\n",
    "print(\"Classification Report:\\n\", classification_report(y_test, y_pred))\n",
    "\n",
    "# Logistic Regression\n",
    "log_reg = LogisticRegression(max_iter=1000)\n",
    "log_reg.fit(X_train, y_train)\n",
    "log_pred = log_reg.predict(X_test)\n",
    "log_accuracy = accuracy_score(y_test, log_pred)\n",
    "print(\"Logistic Regression:\")\n",
    "print(f\"Accuracy: {log_accuracy:.4f}\")\n",
    "print(\"Classification Report:\\n\", classification_report(y_test, log_pred))\n",
    "\n",
    "# SVM\n",
    "svm = LinearSVC()\n",
    "svm.fit(X_train, y_train)\n",
    "svm_pred = svm.predict(X_test)\n",
    "svm_accuracy = accuracy_score(y_test, svm_pred)\n",
    "print(\"SVC:\")\n",
    "print(f\"Accuracy: {svm_accuracy:.4f}\")\n",
    "print(\"Classification Report:\\n\", classification_report(y_test, svm_pred))\n",
    "\n",
    "# Confusion matrices\n",
    "nb_cm = confusion_matrix(y_test, y_pred)\n",
    "cm_logreg = confusion_matrix(y_test, log_pred)\n",
    "cm_svm = confusion_matrix(y_test, svm_pred)\n",
    "\n",
    "# Define the confusion matrices and titles\n",
    "\n",
    "#transpose confusion matrices to get it in right orientation given sns heatmap being used\n",
    "cms = [nb_cm.T, cm_logreg.T, cm_svm.T]\n",
    "titles = ['Naive Bayes Confusion Matrix', 'Logistic Regression Confusion Matrix', 'SVM Confusion Matrix']\n",
    "cmaps = ['Blues', 'Reds', 'Purples']\n",
    "\n",
    "# loop through heatmaps\n",
    "figsize = (6, 5)\n",
    "\n",
    "for i, (cm, title, cmap) in enumerate(zip(cms, titles, cmaps)):\n",
    "    fig, ax = plt.subplots(figsize=figsize)\n",
    "    sns.heatmap(cm, annot=True, fmt='d', cmap=cmap,\n",
    "                yticklabels=[\"Predicted Fake\", \"Predicted Real\"],\n",
    "                xticklabels=[\"Actual Fake\", \"Actual Real\"],\n",
    "                cbar=False, ax=ax)  \n",
    "    ax.set_title(title)\n",
    "    ax.xaxis.set_label_position('top') \n",
    "    ax.xaxis.tick_top()\n",
    "    \n",
    "    plt.tight_layout()\n",
    "    \n",
    "    # save plots as images\n",
    "    #plt.savefig(f'plot_{i}.png', bbox_inches='tight', dpi=300)\n",
    "    \n",
    "    plt.show()"
   ]
  },
  {
   "cell_type": "code",
   "execution_count": null,
   "id": "ef537691-dff6-4516-bbae-cb447134c355",
   "metadata": {},
   "outputs": [],
   "source": []
  }
 ],
 "metadata": {
  "kernelspec": {
   "display_name": "Python 3 (ipykernel)",
   "language": "python",
   "name": "python3"
  },
  "language_info": {
   "codemirror_mode": {
    "name": "ipython",
    "version": 3
   },
   "file_extension": ".py",
   "mimetype": "text/x-python",
   "name": "python",
   "nbconvert_exporter": "python",
   "pygments_lexer": "ipython3",
   "version": "3.13.3"
  }
 },
 "nbformat": 4,
 "nbformat_minor": 5
}
